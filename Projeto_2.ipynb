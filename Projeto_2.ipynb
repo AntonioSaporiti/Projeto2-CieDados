{
 "cells": [
  {
   "cell_type": "markdown",
   "metadata": {},
   "source": [
    "# Projeto 2 - Ciência dos Dados"
   ]
  },
  {
   "cell_type": "markdown",
   "metadata": {},
   "source": [
    "Nome: Antonio Saporiti\n",
    "\n",
    "Nome: Enzo Neto"
   ]
  },
  {
   "cell_type": "markdown",
   "metadata": {},
   "source": [
    "Serão permitidos grupos de três pessoas, mas com uma rubrica mais exigente. Grupos deste tamanho precisarão fazer um questionário de avaliação de trabalho em equipe"
   ]
  },
  {
   "cell_type": "markdown",
   "metadata": {},
   "source": [
    "___\n",
    "# Classificador automático de sentimento\n"
   ]
  },
  {
   "cell_type": "markdown",
   "metadata": {},
   "source": [
    "## Preparando o ambiente no jupyter:"
   ]
  },
  {
   "cell_type": "code",
   "execution_count": 3,
   "metadata": {},
   "outputs": [],
   "source": [
    "%%capture\n",
    "\n",
    "#Instalando o tweepy\n",
    "!pip install tweepy"
   ]
  },
  {
   "cell_type": "code",
   "execution_count": 2,
   "metadata": {
    "jupyter": {
     "outputs_hidden": true
    }
   },
   "outputs": [],
   "source": [
    "import tweepy\n",
    "import math\n",
    "import os.path\n",
    "import pandas as pd\n",
    "import json\n",
    "from random import shuffle"
   ]
  },
  {
   "cell_type": "markdown",
   "metadata": {},
   "source": [
    "___\n",
    "## Autenticando no  Twitter\n",
    "\n",
    "* Conta: ***[Preencha aqui o id da sua conta. Ex: @fulano ]***"
   ]
  },
  {
   "cell_type": "code",
   "execution_count": null,
   "metadata": {
    "jupyter": {
     "outputs_hidden": true
    }
   },
   "outputs": [],
   "source": [
    "#Dados de autenticação do twitter:\n",
    "\n",
    "#Coloque aqui o identificador da conta no twitter: @Enzo56212670\n",
    "\n",
    "#leitura do arquivo no formato JSON\n",
    "with open('auth ELLEN.pass') as fp:    \n",
    "    data = json.load(fp)\n",
    "\n",
    "#Configurando a biblioteca. Não modificar\n",
    "auth = tweepy.OAuthHandler(data['consumer_key'], data['consumer_secret'])\n",
    "auth.set_access_token(data['access_token'], data['access_token_secret'])"
   ]
  },
  {
   "cell_type": "markdown",
   "metadata": {},
   "source": [
    "___\n",
    "## Etapas do projeto:"
   ]
  },
  {
   "cell_type": "markdown",
   "metadata": {},
   "source": [
    "### Escolha de um produto e coleta das mensagens\n"
   ]
  },
  {
   "cell_type": "code",
   "execution_count": 4,
   "metadata": {},
   "outputs": [
    {
     "data": {
      "text/plain": [
       "[1, 2, 3, 22, 3, 4]"
      ]
     },
     "execution_count": 4,
     "metadata": {},
     "output_type": "execute_result"
    }
   ],
   "source": [
    "a=[1,2,3]\n",
    "b=[22,3,4]\n",
    "a+b"
   ]
  },
  {
   "cell_type": "code",
   "execution_count": 5,
   "metadata": {},
   "outputs": [
    {
     "data": {
      "text/html": [
       "<div>\n",
       "<style scoped>\n",
       "    .dataframe tbody tr th:only-of-type {\n",
       "        vertical-align: middle;\n",
       "    }\n",
       "\n",
       "    .dataframe tbody tr th {\n",
       "        vertical-align: top;\n",
       "    }\n",
       "\n",
       "    .dataframe thead th {\n",
       "        text-align: right;\n",
       "    }\n",
       "</style>\n",
       "<table border=\"1\" class=\"dataframe\">\n",
       "  <thead>\n",
       "    <tr style=\"text-align: right;\">\n",
       "      <th></th>\n",
       "      <th>0</th>\n",
       "    </tr>\n",
       "  </thead>\n",
       "  <tbody>\n",
       "    <tr>\n",
       "      <th>0</th>\n",
       "      <td>1</td>\n",
       "    </tr>\n",
       "    <tr>\n",
       "      <th>1</th>\n",
       "      <td>2</td>\n",
       "    </tr>\n",
       "    <tr>\n",
       "      <th>2</th>\n",
       "      <td>3</td>\n",
       "    </tr>\n",
       "  </tbody>\n",
       "</table>\n",
       "</div>"
      ],
      "text/plain": [
       "   0\n",
       "0  1\n",
       "1  2\n",
       "2  3"
      ]
     },
     "execution_count": 5,
     "metadata": {},
     "output_type": "execute_result"
    }
   ],
   "source": [
    "p1=pd.DataFrame(a)\n",
    "p1"
   ]
  },
  {
   "cell_type": "code",
   "execution_count": 6,
   "metadata": {},
   "outputs": [
    {
     "data": {
      "text/plain": [
       "[1, 2, 3]"
      ]
     },
     "execution_count": 6,
     "metadata": {},
     "output_type": "execute_result"
    }
   ],
   "source": [
    "list(p1[0])"
   ]
  },
  {
   "cell_type": "code",
   "execution_count": null,
   "metadata": {
    "jupyter": {
     "outputs_hidden": true
    }
   },
   "outputs": [],
   "source": [
    "#Produto escolhido:\n",
    "produto = 'Rainbow six siege'\n",
    "\n",
    "#Quantidade mínima de mensagens capturadas:\n",
    "n = 500\n",
    "#Quantidade mínima de mensagens para a base de treinamento:\n",
    "t = 500\n",
    "\n",
    "#Filtro de língua, escolha uma na tabela ISO 639-1.\n",
    "lang = 'en'"
   ]
  },
  {
   "cell_type": "markdown",
   "metadata": {},
   "source": [
    "Capturando os dados do twitter:"
   ]
  },
  {
   "cell_type": "code",
   "execution_count": null,
   "metadata": {
    "jupyter": {
     "outputs_hidden": true
    }
   },
   "outputs": [],
   "source": [
    "#Cria um objeto para a captura\n",
    "api = tweepy.API(auth)\n",
    "\n",
    "#Inicia a captura, para mais detalhes: ver a documentação do tweepy\n",
    "i = 1\n",
    "msgs = []\n",
    "for msg in tweepy.Cursor(api.search, q=produto, lang=lang, tweet_mode=\"extended\").items():    \n",
    "    msgs.append(msg.full_text.lower())\n",
    "    i += 1\n",
    "    if i > n:\n",
    "        break\n",
    "\n",
    "#Embaralhando as mensagens para reduzir um possível viés\n",
    "shuffle(msgs)"
   ]
  },
  {
   "cell_type": "markdown",
   "metadata": {},
   "source": [
    "Salvando os dados em uma planilha Excel:"
   ]
  },
  {
   "cell_type": "code",
   "execution_count": null,
   "metadata": {
    "jupyter": {
     "outputs_hidden": true
    }
   },
   "outputs": [],
   "source": [
    "#Verifica se o arquivo não existe para não substituir um conjunto pronto\n",
    "if not os.path.isfile('./{0}.xlsx'.format(produto)):\n",
    "    \n",
    "    #Abre o arquivo para escrita\n",
    "    writer = pd.ExcelWriter('{0}.xlsx'.format(produto))\n",
    "\n",
    "    #divide o conjunto de mensagens em duas planilhas\n",
    "    dft = pd.DataFrame({'Treinamento' : pd.Series(msgs[:t])})\n",
    "    dft.to_excel(excel_writer = writer, sheet_name = 'Treinamento', index = False)\n",
    "\n",
    "    dfc = pd.DataFrame({'Teste' : pd.Series(msgs[t:])})\n",
    "    dfc.to_excel(excel_writer = writer, sheet_name = 'Teste', index = False)\n",
    "\n",
    "    #fecha o arquivo\n",
    "    writer.save()"
   ]
  },
  {
   "cell_type": "markdown",
   "metadata": {},
   "source": [
    "___\n",
    "### Classificando as mensagens na coragem\n",
    "\n",
    "Esta etapa é manual. Faça a mesma pelo Excel."
   ]
  },
  {
   "cell_type": "code",
   "execution_count": null,
   "metadata": {},
   "outputs": [],
   "source": [
    "r6_raw = pd.read_excel(\"Rainbow six siege.xlsx\")\n",
    "r6_raw"
   ]
  },
  {
   "cell_type": "code",
   "execution_count": null,
   "metadata": {},
   "outputs": [],
   "source": [
    "r6 = set(r6_raw.Treinamento)\n",
    "r6"
   ]
  },
  {
   "cell_type": "code",
   "execution_count": null,
   "metadata": {},
   "outputs": [],
   "source": [
    "r6_lista = pd.Series(list(r6))\n",
    "r6_lista.to_excel(\"Treinamento_r6.xlsx\")"
   ]
  },
  {
   "cell_type": "code",
   "execution_count": null,
   "metadata": {},
   "outputs": [],
   "source": [
    "treinamento_r6 = pd.read_excel(\"Treinamento_r6.xlsx\")\n",
    "treinamento_r6_2 = pd.read_excel(\"Treinamento_r6.1.xlsx\")\n",
    "treinamento_r6"
   ]
  },
  {
   "cell_type": "markdown",
   "metadata": {},
   "source": [
    "Somando as tabelas para criação da tabela Treinamento com 300 tweets"
   ]
  },
  {
   "cell_type": "code",
   "execution_count": null,
   "metadata": {},
   "outputs": [],
   "source": [
    "a = treinamento_r6.iloc[:150]\n",
    "b = treinamento_r6_2.iloc[:150]\n",
    "listaT1 = list(a[0])\n",
    "listaT2 = list(b[\"tweets\"])\n",
    "Treinamento_300 = listaT1 + listaT2"
   ]
  },
  {
   "cell_type": "code",
   "execution_count": null,
   "metadata": {},
   "outputs": [],
   "source": [
    "treinamento_300 = pd.Series(Treinamento_300)\n",
    "treinamento_300.to_excel(\"Treinamento300.xlsx\")"
   ]
  },
  {
   "cell_type": "markdown",
   "metadata": {},
   "source": [
    "Somando as tabelas para criação da tabela Base com 200 tweets"
   ]
  },
  {
   "cell_type": "code",
   "execution_count": null,
   "metadata": {},
   "outputs": [],
   "source": [
    "tweets1 = pd.read_excel(\"tweets1.xlsx\")\n",
    "tweets2 = pd.read_excel(\"tweets2.xlsx\")"
   ]
  },
  {
   "cell_type": "code",
   "execution_count": null,
   "metadata": {},
   "outputs": [],
   "source": [
    "c = tweets1.iloc[160:260]\n",
    "d = tweets2.iloc[160:260]\n",
    "listaC = list(c[\"tweets\"])\n",
    "listaD = list(d[\"tweets\"])\n",
    "Base_200 = listaC + listaD"
   ]
  },
  {
   "cell_type": "code",
   "execution_count": null,
   "metadata": {},
   "outputs": [],
   "source": [
    "base_200 = pd.Series(Base_200)\n",
    "base200 = base_200.to_excel(\"Base200.xlsx\")"
   ]
  },
  {
   "cell_type": "markdown",
   "metadata": {},
   "source": [
    "## Tabelas prontas\n",
    "\n",
    "Na etapa de cima, estão os códigos utilizados para criação e manupilução das tabelas que serão utilizadas para montar o classificador"
   ]
  },
  {
   "cell_type": "code",
   "execution_count": 7,
   "metadata": {},
   "outputs": [
    {
     "data": {
      "text/html": [
       "<div>\n",
       "<style scoped>\n",
       "    .dataframe tbody tr th:only-of-type {\n",
       "        vertical-align: middle;\n",
       "    }\n",
       "\n",
       "    .dataframe tbody tr th {\n",
       "        vertical-align: top;\n",
       "    }\n",
       "\n",
       "    .dataframe thead th {\n",
       "        text-align: right;\n",
       "    }\n",
       "</style>\n",
       "<table border=\"1\" class=\"dataframe\">\n",
       "  <thead>\n",
       "    <tr style=\"text-align: right;\">\n",
       "      <th></th>\n",
       "      <th>tweets</th>\n",
       "      <th>Categoria</th>\n",
       "    </tr>\n",
       "  </thead>\n",
       "  <tbody>\n",
       "    <tr>\n",
       "      <th>0</th>\n",
       "      <td>i'm now streaming on twitch! playing tom clanc...</td>\n",
       "      <td>1</td>\n",
       "    </tr>\n",
       "    <tr>\n",
       "      <th>1</th>\n",
       "      <td>rt @imebyte: new video!\\n\\nrecoil control cons...</td>\n",
       "      <td>1</td>\n",
       "    </tr>\n",
       "    <tr>\n",
       "      <th>2</th>\n",
       "      <td>rainbow six siege #126\\nhttps://t.co/lyszfpexb...</td>\n",
       "      <td>1</td>\n",
       "    </tr>\n",
       "    <tr>\n",
       "      <th>3</th>\n",
       "      <td>#breadisoverparty bread stole my ace on rainbo...</td>\n",
       "      <td>1</td>\n",
       "    </tr>\n",
       "    <tr>\n",
       "      <th>4</th>\n",
       "      <td>@i_am_wildcat well, rainbow six siege is a goo...</td>\n",
       "      <td>1</td>\n",
       "    </tr>\n",
       "    <tr>\n",
       "      <th>5</th>\n",
       "      <td>@ubisoft hey ubisoft i been playing rainbow si...</td>\n",
       "      <td>1</td>\n",
       "    </tr>\n",
       "    <tr>\n",
       "      <th>6</th>\n",
       "      <td>does anyone know when new rainbow six siege se...</td>\n",
       "      <td>1</td>\n",
       "    </tr>\n",
       "    <tr>\n",
       "      <th>7</th>\n",
       "      <td>nobody:\\nrainbow six siege players: \"oh this n...</td>\n",
       "      <td>0</td>\n",
       "    </tr>\n",
       "    <tr>\n",
       "      <th>8</th>\n",
       "      <td>who is 「rainbow six siege」 leader...?</td>\n",
       "      <td>0</td>\n",
       "    </tr>\n",
       "    <tr>\n",
       "      <th>9</th>\n",
       "      <td>@cherryrae @osamadorias rainbow six siege's gr...</td>\n",
       "      <td>1</td>\n",
       "    </tr>\n",
       "    <tr>\n",
       "      <th>10</th>\n",
       "      <td>@zotac rainbow six siege, as a n00b getting sp...</td>\n",
       "      <td>0</td>\n",
       "    </tr>\n",
       "    <tr>\n",
       "      <th>11</th>\n",
       "      <td>where is the rainbow six siege ember rise rele...</td>\n",
       "      <td>1</td>\n",
       "    </tr>\n",
       "    <tr>\n",
       "      <th>12</th>\n",
       "      <td>frodo_86 played tom clancy's rainbow six siege...</td>\n",
       "      <td>1</td>\n",
       "    </tr>\n",
       "    <tr>\n",
       "      <th>13</th>\n",
       "      <td>rainbow six siege https://t.co/xysag2wsn9</td>\n",
       "      <td>1</td>\n",
       "    </tr>\n",
       "    <tr>\n",
       "      <th>14</th>\n",
       "      <td>rt @bowskij: rainbow six siege fails &amp;amp; hig...</td>\n",
       "      <td>1</td>\n",
       "    </tr>\n",
       "    <tr>\n",
       "      <th>15</th>\n",
       "      <td>check out my broadcast from my playstation 4! ...</td>\n",
       "      <td>1</td>\n",
       "    </tr>\n",
       "    <tr>\n",
       "      <th>16</th>\n",
       "      <td>rainbow six siege https://t.co/uvrd5kdxo2</td>\n",
       "      <td>1</td>\n",
       "    </tr>\n",
       "    <tr>\n",
       "      <th>17</th>\n",
       "      <td>new rainbow six siege montage come check it ou...</td>\n",
       "      <td>1</td>\n",
       "    </tr>\n",
       "    <tr>\n",
       "      <th>18</th>\n",
       "      <td>rt @seahawk101bl: just posted a video 2v1 you'...</td>\n",
       "      <td>1</td>\n",
       "    </tr>\n",
       "    <tr>\n",
       "      <th>19</th>\n",
       "      <td>rainbow six siege buffs fuze and warden for em...</td>\n",
       "      <td>1</td>\n",
       "    </tr>\n",
       "    <tr>\n",
       "      <th>20</th>\n",
       "      <td>rainbow six siege casual [part 1] - i actually...</td>\n",
       "      <td>1</td>\n",
       "    </tr>\n",
       "    <tr>\n",
       "      <th>21</th>\n",
       "      <td>rt @super_nova_inc: sn is looking to recruit s...</td>\n",
       "      <td>1</td>\n",
       "    </tr>\n",
       "    <tr>\n",
       "      <th>22</th>\n",
       "      <td>rt @infuprise: launching 50%... 🚀\\n\\nwe are lo...</td>\n",
       "      <td>1</td>\n",
       "    </tr>\n",
       "    <tr>\n",
       "      <th>23</th>\n",
       "      <td>tom clancy's rainbow six® siege live at https:...</td>\n",
       "      <td>1</td>\n",
       "    </tr>\n",
       "    <tr>\n",
       "      <th>24</th>\n",
       "      <td>@ubisoftsupport i own rainbow six siege on ps4...</td>\n",
       "      <td>0</td>\n",
       "    </tr>\n",
       "    <tr>\n",
       "      <th>25</th>\n",
       "      <td>was going to go live with some pc rainbow six ...</td>\n",
       "      <td>1</td>\n",
       "    </tr>\n",
       "    <tr>\n",
       "      <th>26</th>\n",
       "      <td>check out my broadcast from my playstation 4! ...</td>\n",
       "      <td>1</td>\n",
       "    </tr>\n",
       "    <tr>\n",
       "      <th>27</th>\n",
       "      <td>i am live!!! come hang out with the gang as we...</td>\n",
       "      <td>1</td>\n",
       "    </tr>\n",
       "    <tr>\n",
       "      <th>28</th>\n",
       "      <td>check out my broadcast from my playstation 4! ...</td>\n",
       "      <td>1</td>\n",
       "    </tr>\n",
       "    <tr>\n",
       "      <th>29</th>\n",
       "      <td>check out my broadcast from my playstation 4! ...</td>\n",
       "      <td>1</td>\n",
       "    </tr>\n",
       "    <tr>\n",
       "      <th>...</th>\n",
       "      <td>...</td>\n",
       "      <td>...</td>\n",
       "    </tr>\n",
       "    <tr>\n",
       "      <th>270</th>\n",
       "      <td>check out tom clancy's rainbow six: siege wors...</td>\n",
       "      <td>1</td>\n",
       "    </tr>\n",
       "    <tr>\n",
       "      <th>271</th>\n",
       "      <td>check out my broadcast from my playstation 4! ...</td>\n",
       "      <td>1</td>\n",
       "    </tr>\n",
       "    <tr>\n",
       "      <th>272</th>\n",
       "      <td>it's been fun watching @tkxzyy play tom clancy...</td>\n",
       "      <td>1</td>\n",
       "    </tr>\n",
       "    <tr>\n",
       "      <th>273</th>\n",
       "      <td>rt @k_m_p_gamer: check out tom clancy's rainbo...</td>\n",
       "      <td>1</td>\n",
       "    </tr>\n",
       "    <tr>\n",
       "      <th>274</th>\n",
       "      <td>for full video:  https://t.co/68yzkcn3ww\\n\\na ...</td>\n",
       "      <td>1</td>\n",
       "    </tr>\n",
       "    <tr>\n",
       "      <th>275</th>\n",
       "      <td>rt @glitchrekal: check out my broadcast from m...</td>\n",
       "      <td>1</td>\n",
       "    </tr>\n",
       "    <tr>\n",
       "      <th>276</th>\n",
       "      <td>#kinggeorge is now streaming #tom clancy's rai...</td>\n",
       "      <td>1</td>\n",
       "    </tr>\n",
       "    <tr>\n",
       "      <th>277</th>\n",
       "      <td>rt @deltaessentials: delta essentials keyboard...</td>\n",
       "      <td>1</td>\n",
       "    </tr>\n",
       "    <tr>\n",
       "      <th>278</th>\n",
       "      <td>the worst gameplay on rainbow six siege. playi...</td>\n",
       "      <td>0</td>\n",
       "    </tr>\n",
       "    <tr>\n",
       "      <th>279</th>\n",
       "      <td>controlla le trasmissioni dalla mia playstatio...</td>\n",
       "      <td>1</td>\n",
       "    </tr>\n",
       "    <tr>\n",
       "      <th>280</th>\n",
       "      <td>just having some fun in rainbow six siege! \\n\\...</td>\n",
       "      <td>1</td>\n",
       "    </tr>\n",
       "    <tr>\n",
       "      <th>281</th>\n",
       "      <td>earned 1 psn trophy (1 bronze) in tom clancy's...</td>\n",
       "      <td>1</td>\n",
       "    </tr>\n",
       "    <tr>\n",
       "      <th>282</th>\n",
       "      <td>rt @mercraider: come watch stratus_b while he ...</td>\n",
       "      <td>1</td>\n",
       "    </tr>\n",
       "    <tr>\n",
       "      <th>283</th>\n",
       "      <td>im a pro in fortnite and rainbow six siege now...</td>\n",
       "      <td>1</td>\n",
       "    </tr>\n",
       "    <tr>\n",
       "      <th>284</th>\n",
       "      <td>rt @valkaros: how about i stream some rainbow ...</td>\n",
       "      <td>1</td>\n",
       "    </tr>\n",
       "    <tr>\n",
       "      <th>285</th>\n",
       "      <td>@macdrea_ we are the russian community of the ...</td>\n",
       "      <td>1</td>\n",
       "    </tr>\n",
       "    <tr>\n",
       "      <th>286</th>\n",
       "      <td>check out my broadcast from my playstation 4! ...</td>\n",
       "      <td>1</td>\n",
       "    </tr>\n",
       "    <tr>\n",
       "      <th>287</th>\n",
       "      <td>iiiiiits gaming time! after a nice refreshing ...</td>\n",
       "      <td>1</td>\n",
       "    </tr>\n",
       "    <tr>\n",
       "      <th>288</th>\n",
       "      <td>i’m bored playing by myself on my xbox no frie...</td>\n",
       "      <td>1</td>\n",
       "    </tr>\n",
       "    <tr>\n",
       "      <th>289</th>\n",
       "      <td>check out my broadcast from my playstation 4! ...</td>\n",
       "      <td>1</td>\n",
       "    </tr>\n",
       "    <tr>\n",
       "      <th>290</th>\n",
       "      <td>rainbow six siege ranked tooop!!!! https://t.c...</td>\n",
       "      <td>1</td>\n",
       "    </tr>\n",
       "    <tr>\n",
       "      <th>291</th>\n",
       "      <td>check out my broadcast from my playstation 4! ...</td>\n",
       "      <td>1</td>\n",
       "    </tr>\n",
       "    <tr>\n",
       "      <th>292</th>\n",
       "      <td>#gameon thezoroark31 transmitiendo tom clancy'...</td>\n",
       "      <td>1</td>\n",
       "    </tr>\n",
       "    <tr>\n",
       "      <th>293</th>\n",
       "      <td>@omarr_op is soooo garbage at rainbow six siege</td>\n",
       "      <td>1</td>\n",
       "    </tr>\n",
       "    <tr>\n",
       "      <th>294</th>\n",
       "      <td>ranked montage #1 - rainbow six siege https://...</td>\n",
       "      <td>1</td>\n",
       "    </tr>\n",
       "    <tr>\n",
       "      <th>295</th>\n",
       "      <td>i would really appreciate it if you give the m...</td>\n",
       "      <td>1</td>\n",
       "    </tr>\n",
       "    <tr>\n",
       "      <th>296</th>\n",
       "      <td>@shaiiko_ is the best individual player who ev...</td>\n",
       "      <td>1</td>\n",
       "    </tr>\n",
       "    <tr>\n",
       "      <th>297</th>\n",
       "      <td>rt @maxiter94: the top 10 worst maps in rainbo...</td>\n",
       "      <td>1</td>\n",
       "    </tr>\n",
       "    <tr>\n",
       "      <th>298</th>\n",
       "      <td>check out the new video, it's hilarious\\ngirl ...</td>\n",
       "      <td>1</td>\n",
       "    </tr>\n",
       "    <tr>\n",
       "      <th>299</th>\n",
       "      <td>#zironicdk is now streaming #tom clancy's rain...</td>\n",
       "      <td>1</td>\n",
       "    </tr>\n",
       "  </tbody>\n",
       "</table>\n",
       "<p>300 rows × 2 columns</p>\n",
       "</div>"
      ],
      "text/plain": [
       "                                                tweets  Categoria\n",
       "0    i'm now streaming on twitch! playing tom clanc...          1\n",
       "1    rt @imebyte: new video!\\n\\nrecoil control cons...          1\n",
       "2    rainbow six siege #126\\nhttps://t.co/lyszfpexb...          1\n",
       "3    #breadisoverparty bread stole my ace on rainbo...          1\n",
       "4    @i_am_wildcat well, rainbow six siege is a goo...          1\n",
       "5    @ubisoft hey ubisoft i been playing rainbow si...          1\n",
       "6    does anyone know when new rainbow six siege se...          1\n",
       "7    nobody:\\nrainbow six siege players: \"oh this n...          0\n",
       "8                who is 「rainbow six siege」 leader...?          0\n",
       "9    @cherryrae @osamadorias rainbow six siege's gr...          1\n",
       "10   @zotac rainbow six siege, as a n00b getting sp...          0\n",
       "11   where is the rainbow six siege ember rise rele...          1\n",
       "12   frodo_86 played tom clancy's rainbow six siege...          1\n",
       "13           rainbow six siege https://t.co/xysag2wsn9          1\n",
       "14   rt @bowskij: rainbow six siege fails &amp; hig...          1\n",
       "15   check out my broadcast from my playstation 4! ...          1\n",
       "16           rainbow six siege https://t.co/uvrd5kdxo2          1\n",
       "17   new rainbow six siege montage come check it ou...          1\n",
       "18   rt @seahawk101bl: just posted a video 2v1 you'...          1\n",
       "19   rainbow six siege buffs fuze and warden for em...          1\n",
       "20   rainbow six siege casual [part 1] - i actually...          1\n",
       "21   rt @super_nova_inc: sn is looking to recruit s...          1\n",
       "22   rt @infuprise: launching 50%... 🚀\\n\\nwe are lo...          1\n",
       "23   tom clancy's rainbow six® siege live at https:...          1\n",
       "24   @ubisoftsupport i own rainbow six siege on ps4...          0\n",
       "25   was going to go live with some pc rainbow six ...          1\n",
       "26   check out my broadcast from my playstation 4! ...          1\n",
       "27   i am live!!! come hang out with the gang as we...          1\n",
       "28   check out my broadcast from my playstation 4! ...          1\n",
       "29   check out my broadcast from my playstation 4! ...          1\n",
       "..                                                 ...        ...\n",
       "270  check out tom clancy's rainbow six: siege wors...          1\n",
       "271  check out my broadcast from my playstation 4! ...          1\n",
       "272  it's been fun watching @tkxzyy play tom clancy...          1\n",
       "273  rt @k_m_p_gamer: check out tom clancy's rainbo...          1\n",
       "274  for full video:  https://t.co/68yzkcn3ww\\n\\na ...          1\n",
       "275  rt @glitchrekal: check out my broadcast from m...          1\n",
       "276  #kinggeorge is now streaming #tom clancy's rai...          1\n",
       "277  rt @deltaessentials: delta essentials keyboard...          1\n",
       "278  the worst gameplay on rainbow six siege. playi...          0\n",
       "279  controlla le trasmissioni dalla mia playstatio...          1\n",
       "280  just having some fun in rainbow six siege! \\n\\...          1\n",
       "281  earned 1 psn trophy (1 bronze) in tom clancy's...          1\n",
       "282  rt @mercraider: come watch stratus_b while he ...          1\n",
       "283  im a pro in fortnite and rainbow six siege now...          1\n",
       "284  rt @valkaros: how about i stream some rainbow ...          1\n",
       "285  @macdrea_ we are the russian community of the ...          1\n",
       "286  check out my broadcast from my playstation 4! ...          1\n",
       "287  iiiiiits gaming time! after a nice refreshing ...          1\n",
       "288  i’m bored playing by myself on my xbox no frie...          1\n",
       "289  check out my broadcast from my playstation 4! ...          1\n",
       "290  rainbow six siege ranked tooop!!!! https://t.c...          1\n",
       "291  check out my broadcast from my playstation 4! ...          1\n",
       "292  #gameon thezoroark31 transmitiendo tom clancy'...          1\n",
       "293    @omarr_op is soooo garbage at rainbow six siege          1\n",
       "294  ranked montage #1 - rainbow six siege https://...          1\n",
       "295  i would really appreciate it if you give the m...          1\n",
       "296  @shaiiko_ is the best individual player who ev...          1\n",
       "297  rt @maxiter94: the top 10 worst maps in rainbo...          1\n",
       "298  check out the new video, it's hilarious\\ngirl ...          1\n",
       "299  #zironicdk is now streaming #tom clancy's rain...          1\n",
       "\n",
       "[300 rows x 2 columns]"
      ]
     },
     "execution_count": 7,
     "metadata": {},
     "output_type": "execute_result"
    }
   ],
   "source": [
    "treinamento_300 = pd.read_excel(\"Treinamento300.feita.xlsx\")\n",
    "treinamento_300"
   ]
  },
  {
   "cell_type": "markdown",
   "metadata": {},
   "source": [
    "No quesito categoria, foram definidos que o valor 1 representa \"gosta\" (do jogo) e 0 representa \"não gosta\" (do jogo)."
   ]
  },
  {
   "cell_type": "markdown",
   "metadata": {},
   "source": [
    "OBS: ao final do trabalho, o jupyter foi rodado e novas tabelas foram criadas. Felizmente, tinhamos a outra tabela já feita por meio de manipulações no jupyter salva antes do mesmo ser rodado e por isso há uma tabela Treinamento300 (que é a tabela que o jupyter montou ao rodar o programa pela ultima vez) e a tabela Treinamento300.feita (que foi a tabela feita antes do Jupyter ser rodado pela última vez, já classificada por nós)."
   ]
  },
  {
   "cell_type": "code",
   "execution_count": 8,
   "metadata": {},
   "outputs": [
    {
     "data": {
      "text/html": [
       "<div>\n",
       "<style scoped>\n",
       "    .dataframe tbody tr th:only-of-type {\n",
       "        vertical-align: middle;\n",
       "    }\n",
       "\n",
       "    .dataframe tbody tr th {\n",
       "        vertical-align: top;\n",
       "    }\n",
       "\n",
       "    .dataframe thead th {\n",
       "        text-align: right;\n",
       "    }\n",
       "</style>\n",
       "<table border=\"1\" class=\"dataframe\">\n",
       "  <thead>\n",
       "    <tr style=\"text-align: right;\">\n",
       "      <th></th>\n",
       "      <th>0</th>\n",
       "    </tr>\n",
       "  </thead>\n",
       "  <tbody>\n",
       "    <tr>\n",
       "      <th>0</th>\n",
       "      <td>rainbow six: siege indonesia | noob moment! ht...</td>\n",
       "    </tr>\n",
       "    <tr>\n",
       "      <th>1</th>\n",
       "      <td>equipo de esports de nicaragua. nos dividimos ...</td>\n",
       "    </tr>\n",
       "    <tr>\n",
       "      <th>2</th>\n",
       "      <td>#lilredhydra is now streaming #tom clancy's ra...</td>\n",
       "    </tr>\n",
       "    <tr>\n",
       "      <th>3</th>\n",
       "      <td>rt @valh_nemesis: check out my broadcast from ...</td>\n",
       "    </tr>\n",
       "    <tr>\n",
       "      <th>4</th>\n",
       "      <td>check out my broadcast from my playstation 4! ...</td>\n",
       "    </tr>\n",
       "    <tr>\n",
       "      <th>5</th>\n",
       "      <td>check out my broadcast from my playstation 4! ...</td>\n",
       "    </tr>\n",
       "    <tr>\n",
       "      <th>6</th>\n",
       "      <td>rt @rainbow6game: it’s your last chance to sav...</td>\n",
       "    </tr>\n",
       "    <tr>\n",
       "      <th>7</th>\n",
       "      <td>check out my broadcast from my playstation 4! ...</td>\n",
       "    </tr>\n",
       "    <tr>\n",
       "      <th>8</th>\n",
       "      <td>rt @lt_foxy: platinum ranked gameplay with han...</td>\n",
       "    </tr>\n",
       "    <tr>\n",
       "      <th>9</th>\n",
       "      <td>check out my broadcast from my playstation 4! ...</td>\n",
       "    </tr>\n",
       "    <tr>\n",
       "      <th>10</th>\n",
       "      <td>@king_vidal96 tom clancy's rainbow six siege</td>\n",
       "    </tr>\n",
       "    <tr>\n",
       "      <th>11</th>\n",
       "      <td>check out tom clancy's rainbow six: siege wors...</td>\n",
       "    </tr>\n",
       "    <tr>\n",
       "      <th>12</th>\n",
       "      <td>rt @teamunknowngg: games we are looking for pl...</td>\n",
       "    </tr>\n",
       "    <tr>\n",
       "      <th>13</th>\n",
       "      <td>just posted a video 2v1 you're not the father ...</td>\n",
       "    </tr>\n",
       "    <tr>\n",
       "      <th>14</th>\n",
       "      <td>@r6esports when does the season end rainbow si...</td>\n",
       "    </tr>\n",
       "    <tr>\n",
       "      <th>15</th>\n",
       "      <td>rt @deadarticgames: tom clancy’s rainbow six s...</td>\n",
       "    </tr>\n",
       "    <tr>\n",
       "      <th>16</th>\n",
       "      <td>barbourbrats's live rainbow six siege (sub for...</td>\n",
       "    </tr>\n",
       "    <tr>\n",
       "      <th>17</th>\n",
       "      <td>check out my broadcast from my playstation 4! ...</td>\n",
       "    </tr>\n",
       "    <tr>\n",
       "      <th>18</th>\n",
       "      <td>check out my broadcast from my playstation 4! ...</td>\n",
       "    </tr>\n",
       "    <tr>\n",
       "      <th>19</th>\n",
       "      <td>switching to rainbow six siege streaming with ...</td>\n",
       "    </tr>\n",
       "    <tr>\n",
       "      <th>20</th>\n",
       "      <td>rainbow six siege https://t.co/ynpreqgryi</td>\n",
       "    </tr>\n",
       "    <tr>\n",
       "      <th>21</th>\n",
       "      <td>rt @mrsladycakes364: saving up my renown for r...</td>\n",
       "    </tr>\n",
       "    <tr>\n",
       "      <th>22</th>\n",
       "      <td>rainbow six siege buffs fuze and warden for em...</td>\n",
       "    </tr>\n",
       "    <tr>\n",
       "      <th>23</th>\n",
       "      <td>check out my broadcast from my playstation 4! ...</td>\n",
       "    </tr>\n",
       "    <tr>\n",
       "      <th>24</th>\n",
       "      <td>i'm live on twitch - watch me at https://t.co/...</td>\n",
       "    </tr>\n",
       "    <tr>\n",
       "      <th>25</th>\n",
       "      <td>one of the worst things they did to rainbow si...</td>\n",
       "    </tr>\n",
       "    <tr>\n",
       "      <th>26</th>\n",
       "      <td>check out my broadcast from my playstation 4! ...</td>\n",
       "    </tr>\n",
       "    <tr>\n",
       "      <th>27</th>\n",
       "      <td>tfw your favorite rainbow six siege streamer i...</td>\n",
       "    </tr>\n",
       "    <tr>\n",
       "      <th>28</th>\n",
       "      <td>check out colonel_jackie now streaming tom cla...</td>\n",
       "    </tr>\n",
       "    <tr>\n",
       "      <th>29</th>\n",
       "      <td>#gameon thezoroark31 transmitiendo tom clancy'...</td>\n",
       "    </tr>\n",
       "    <tr>\n",
       "      <th>...</th>\n",
       "      <td>...</td>\n",
       "    </tr>\n",
       "    <tr>\n",
       "      <th>170</th>\n",
       "      <td>rt @wicked_vicious: trickstar_wv is #streaming...</td>\n",
       "    </tr>\n",
       "    <tr>\n",
       "      <th>171</th>\n",
       "      <td>check out my broadcast from my playstation 4! ...</td>\n",
       "    </tr>\n",
       "    <tr>\n",
       "      <th>172</th>\n",
       "      <td>check out my broadcast from my playstation 4! ...</td>\n",
       "    </tr>\n",
       "    <tr>\n",
       "      <th>173</th>\n",
       "      <td>rainbow six siege down amid xbox one, pc, and ...</td>\n",
       "    </tr>\n",
       "    <tr>\n",
       "      <th>174</th>\n",
       "      <td>spikeleeangel played tom clancy’s rainbow six ...</td>\n",
       "    </tr>\n",
       "    <tr>\n",
       "      <th>175</th>\n",
       "      <td>check out my broadcast from my playstation 4! ...</td>\n",
       "    </tr>\n",
       "    <tr>\n",
       "      <th>176</th>\n",
       "      <td>check out my broadcast from my playstation 4! ...</td>\n",
       "    </tr>\n",
       "    <tr>\n",
       "      <th>177</th>\n",
       "      <td>rt @griefdrums: icymi yesterday, i dropped a n...</td>\n",
       "    </tr>\n",
       "    <tr>\n",
       "      <th>178</th>\n",
       "      <td>check out my broadcast from my playstation 4! ...</td>\n",
       "    </tr>\n",
       "    <tr>\n",
       "      <th>179</th>\n",
       "      <td>rt @darussianbadger: new video!\\n\\noperation y...</td>\n",
       "    </tr>\n",
       "    <tr>\n",
       "      <th>180</th>\n",
       "      <td>when spawn peekers rage quit - tom clancy's ra...</td>\n",
       "    </tr>\n",
       "    <tr>\n",
       "      <th>181</th>\n",
       "      <td>rt @team_quantumuk: [#announcement] \\n\\ntq are...</td>\n",
       "    </tr>\n",
       "    <tr>\n",
       "      <th>182</th>\n",
       "      <td>@i_am_wildcat play some apex legends or more r...</td>\n",
       "    </tr>\n",
       "    <tr>\n",
       "      <th>183</th>\n",
       "      <td>tom clancy's rainbow six  siege indonesia publ...</td>\n",
       "    </tr>\n",
       "    <tr>\n",
       "      <th>184</th>\n",
       "      <td>rt @wolfrunner20: just having some fun in rain...</td>\n",
       "    </tr>\n",
       "    <tr>\n",
       "      <th>185</th>\n",
       "      <td>top 150 funniest fails in rainbow six siege ht...</td>\n",
       "    </tr>\n",
       "    <tr>\n",
       "      <th>186</th>\n",
       "      <td>rt @atu_esports: presenting our 2019-2020 rain...</td>\n",
       "    </tr>\n",
       "    <tr>\n",
       "      <th>187</th>\n",
       "      <td>#stayinformed #gaming \"the greatest mustache i...</td>\n",
       "    </tr>\n",
       "    <tr>\n",
       "      <th>188</th>\n",
       "      <td>rt @rainbow6game: it’s your last chance to sav...</td>\n",
       "    </tr>\n",
       "    <tr>\n",
       "      <th>189</th>\n",
       "      <td>@omgitsalia playmore rainbow six siege</td>\n",
       "    </tr>\n",
       "    <tr>\n",
       "      <th>190</th>\n",
       "      <td>check out my broadcast from my playstation 4! ...</td>\n",
       "    </tr>\n",
       "    <tr>\n",
       "      <th>191</th>\n",
       "      <td>@i_am_wildcat rainbow six siege is fuking awes...</td>\n",
       "    </tr>\n",
       "    <tr>\n",
       "      <th>192</th>\n",
       "      <td>just posted a video 2v1 you're not the father ...</td>\n",
       "    </tr>\n",
       "    <tr>\n",
       "      <th>193</th>\n",
       "      <td>rt @christophroar: i'm now streaming on twitch...</td>\n",
       "    </tr>\n",
       "    <tr>\n",
       "      <th>194</th>\n",
       "      <td>i'm now streaming on twitch! playing tom clanc...</td>\n",
       "    </tr>\n",
       "    <tr>\n",
       "      <th>195</th>\n",
       "      <td>day 2 of arguing that tachanka is the worst op...</td>\n",
       "    </tr>\n",
       "    <tr>\n",
       "      <th>196</th>\n",
       "      <td>rainbow six siege and overwatch</td>\n",
       "    </tr>\n",
       "    <tr>\n",
       "      <th>197</th>\n",
       "      <td>booters in rainbow six siege.... https://t.co/...</td>\n",
       "    </tr>\n",
       "    <tr>\n",
       "      <th>198</th>\n",
       "      <td>why the standard edition for rainbow six siege...</td>\n",
       "    </tr>\n",
       "    <tr>\n",
       "      <th>199</th>\n",
       "      <td>check out my broadcast from my playstation 4! ...</td>\n",
       "    </tr>\n",
       "  </tbody>\n",
       "</table>\n",
       "<p>200 rows × 1 columns</p>\n",
       "</div>"
      ],
      "text/plain": [
       "                                                     0\n",
       "0    rainbow six: siege indonesia | noob moment! ht...\n",
       "1    equipo de esports de nicaragua. nos dividimos ...\n",
       "2    #lilredhydra is now streaming #tom clancy's ra...\n",
       "3    rt @valh_nemesis: check out my broadcast from ...\n",
       "4    check out my broadcast from my playstation 4! ...\n",
       "5    check out my broadcast from my playstation 4! ...\n",
       "6    rt @rainbow6game: it’s your last chance to sav...\n",
       "7    check out my broadcast from my playstation 4! ...\n",
       "8    rt @lt_foxy: platinum ranked gameplay with han...\n",
       "9    check out my broadcast from my playstation 4! ...\n",
       "10        @king_vidal96 tom clancy's rainbow six siege\n",
       "11   check out tom clancy's rainbow six: siege wors...\n",
       "12   rt @teamunknowngg: games we are looking for pl...\n",
       "13   just posted a video 2v1 you're not the father ...\n",
       "14   @r6esports when does the season end rainbow si...\n",
       "15   rt @deadarticgames: tom clancy’s rainbow six s...\n",
       "16   barbourbrats's live rainbow six siege (sub for...\n",
       "17   check out my broadcast from my playstation 4! ...\n",
       "18   check out my broadcast from my playstation 4! ...\n",
       "19   switching to rainbow six siege streaming with ...\n",
       "20           rainbow six siege https://t.co/ynpreqgryi\n",
       "21   rt @mrsladycakes364: saving up my renown for r...\n",
       "22   rainbow six siege buffs fuze and warden for em...\n",
       "23   check out my broadcast from my playstation 4! ...\n",
       "24   i'm live on twitch - watch me at https://t.co/...\n",
       "25   one of the worst things they did to rainbow si...\n",
       "26   check out my broadcast from my playstation 4! ...\n",
       "27   tfw your favorite rainbow six siege streamer i...\n",
       "28   check out colonel_jackie now streaming tom cla...\n",
       "29   #gameon thezoroark31 transmitiendo tom clancy'...\n",
       "..                                                 ...\n",
       "170  rt @wicked_vicious: trickstar_wv is #streaming...\n",
       "171  check out my broadcast from my playstation 4! ...\n",
       "172  check out my broadcast from my playstation 4! ...\n",
       "173  rainbow six siege down amid xbox one, pc, and ...\n",
       "174  spikeleeangel played tom clancy’s rainbow six ...\n",
       "175  check out my broadcast from my playstation 4! ...\n",
       "176  check out my broadcast from my playstation 4! ...\n",
       "177  rt @griefdrums: icymi yesterday, i dropped a n...\n",
       "178  check out my broadcast from my playstation 4! ...\n",
       "179  rt @darussianbadger: new video!\\n\\noperation y...\n",
       "180  when spawn peekers rage quit - tom clancy's ra...\n",
       "181  rt @team_quantumuk: [#announcement] \\n\\ntq are...\n",
       "182  @i_am_wildcat play some apex legends or more r...\n",
       "183  tom clancy's rainbow six  siege indonesia publ...\n",
       "184  rt @wolfrunner20: just having some fun in rain...\n",
       "185  top 150 funniest fails in rainbow six siege ht...\n",
       "186  rt @atu_esports: presenting our 2019-2020 rain...\n",
       "187  #stayinformed #gaming \"the greatest mustache i...\n",
       "188  rt @rainbow6game: it’s your last chance to sav...\n",
       "189             @omgitsalia playmore rainbow six siege\n",
       "190  check out my broadcast from my playstation 4! ...\n",
       "191  @i_am_wildcat rainbow six siege is fuking awes...\n",
       "192  just posted a video 2v1 you're not the father ...\n",
       "193  rt @christophroar: i'm now streaming on twitch...\n",
       "194  i'm now streaming on twitch! playing tom clanc...\n",
       "195  day 2 of arguing that tachanka is the worst op...\n",
       "196                    rainbow six siege and overwatch\n",
       "197  booters in rainbow six siege.... https://t.co/...\n",
       "198  why the standard edition for rainbow six siege...\n",
       "199  check out my broadcast from my playstation 4! ...\n",
       "\n",
       "[200 rows x 1 columns]"
      ]
     },
     "execution_count": 8,
     "metadata": {},
     "output_type": "execute_result"
    }
   ],
   "source": [
    "base_200 = pd.read_excel(\"Base200.xlsx\")\n",
    "base_200"
   ]
  },
  {
   "cell_type": "markdown",
   "metadata": {},
   "source": [
    "Os dados dessa tabela surgiram da limpeza e randomização dos dados das tabelas \"tweets1\" e \"tweets2\" geradas a partir dos programas a cima.;"
   ]
  },
  {
   "cell_type": "markdown",
   "metadata": {},
   "source": [
    "___\n",
    "### Montando o Classificador Naive-Bayes\n",
    "\n",
    "Considerando apenas as mensagens da planilha Treinamento, ensine  seu classificador."
   ]
  },
  {
   "cell_type": "code",
   "execution_count": 9,
   "metadata": {},
   "outputs": [],
   "source": [
    "import re \n",
    "\n",
    "\n",
    "def cleanup(text):\n",
    "\n",
    "    import string\n",
    "    punctuation = '[!-.:?;]'\n",
    "    pattern = re.compile(punctuation)\n",
    "    text_subbed = re.sub(pattern, ' ', text)\n",
    "    return text_subbed"
   ]
  },
  {
   "cell_type": "code",
   "execution_count": 10,
   "metadata": {},
   "outputs": [],
   "source": [
    "r6_gosta = treinamento_300[treinamento_300.Categoria == 1]\n",
    "r6_nao_gosta = treinamento_300[treinamento_300.Categoria == 0]"
   ]
  },
  {
   "cell_type": "code",
   "execution_count": 11,
   "metadata": {},
   "outputs": [],
   "source": [
    "texto_gosta = \" \".join(r6_gosta[\"tweets\"])\n",
    "texto_nao_gosta = \" \".join(r6_nao_gosta[\"tweets\"])"
   ]
  },
  {
   "cell_type": "markdown",
   "metadata": {},
   "source": [
    "Retirando os links dos textos e limpado-os"
   ]
  },
  {
   "cell_type": "code",
   "execution_count": 12,
   "metadata": {},
   "outputs": [],
   "source": [
    "texto_gosta_semLink = re.sub(r\"http\\S+\", \"\", texto_gosta)\n",
    "texto_nao_gosta_semLink = re.sub(r\"http\\S+\", \"\", texto_nao_gosta)"
   ]
  },
  {
   "cell_type": "code",
   "execution_count": 13,
   "metadata": {},
   "outputs": [],
   "source": [
    "texto_gosta_limpo = cleanup(texto_gosta_semLink.lower())\n",
    "texto_nao_gosta_limpo = cleanup(texto_nao_gosta_semLink.lower())"
   ]
  },
  {
   "cell_type": "markdown",
   "metadata": {},
   "source": [
    "### Probabilidades a priori de gosta e não gosta"
   ]
  },
  {
   "cell_type": "code",
   "execution_count": 14,
   "metadata": {},
   "outputs": [],
   "source": [
    "total_tweets_treinamento = len(treinamento_300)\n",
    "total_tweets_treinamento_gosta = len(r6_gosta)\n",
    "total_tweets_treinamento_nao_gosta = len(r6_nao_gosta)"
   ]
  },
  {
   "cell_type": "code",
   "execution_count": 15,
   "metadata": {},
   "outputs": [
    {
     "data": {
      "text/plain": [
       "0.89"
      ]
     },
     "execution_count": 15,
     "metadata": {},
     "output_type": "execute_result"
    }
   ],
   "source": [
    "P_gosta = total_tweets_treinamento_gosta/total_tweets_treinamento\n",
    "P_gosta"
   ]
  },
  {
   "cell_type": "code",
   "execution_count": 16,
   "metadata": {},
   "outputs": [
    {
     "data": {
      "text/plain": [
       "0.11"
      ]
     },
     "execution_count": 16,
     "metadata": {},
     "output_type": "execute_result"
    }
   ],
   "source": [
    "P_nao_gosta = total_tweets_treinamento_nao_gosta/total_tweets_treinamento\n",
    "P_nao_gosta"
   ]
  },
  {
   "cell_type": "markdown",
   "metadata": {},
   "source": [
    "### Mais probabilidades e tabelas"
   ]
  },
  {
   "cell_type": "code",
   "execution_count": 17,
   "metadata": {},
   "outputs": [],
   "source": [
    "serie_like = pd.Series(texto_gosta_limpo.split())\n",
    "serie_dislike = pd.Series(texto_nao_gosta_limpo.split())"
   ]
  },
  {
   "cell_type": "markdown",
   "metadata": {},
   "source": [
    "Probabilidade de uma palavra (existente) dado o conjunto like/dislike"
   ]
  },
  {
   "cell_type": "code",
   "execution_count": 18,
   "metadata": {},
   "outputs": [],
   "source": [
    "tabela_like = serie_like.value_counts()\n",
    "tabela_like_relativa = serie_like.value_counts(True)"
   ]
  },
  {
   "cell_type": "code",
   "execution_count": 19,
   "metadata": {},
   "outputs": [],
   "source": [
    "tabela_dislike = serie_dislike.value_counts()\n",
    "tabela_dislike_relativa = serie_dislike.value_counts(True)"
   ]
  },
  {
   "cell_type": "markdown",
   "metadata": {},
   "source": [
    "Probabilidade e tabela do conjunto universo (dado tabela de treinamento)"
   ]
  },
  {
   "cell_type": "code",
   "execution_count": 20,
   "metadata": {},
   "outputs": [],
   "source": [
    "texto_total = texto_gosta_limpo + texto_nao_gosta_limpo\n",
    "serie_total = pd.Series(texto_total.split())\n",
    "tabela_total = serie_total.value_counts()\n",
    "tabela_total_relativa = serie_total.value_counts(True)"
   ]
  },
  {
   "cell_type": "markdown",
   "metadata": {},
   "source": [
    "Teste do classificador com um tweet do treinamento"
   ]
  },
  {
   "cell_type": "code",
   "execution_count": 21,
   "metadata": {},
   "outputs": [
    {
     "name": "stdout",
     "output_type": "stream",
     "text": [
      "['my', 'next', 'rainbow', 'six', 'siege', 'montage', 'gonna', 'be', 'litty', 'babyyy😎😎']\n",
      "Esse tweet é a favor\n"
     ]
    }
   ],
   "source": [
    "#Deixando o tweet apto para classificar\n",
    "tweet_raw = \"my next rainbow six siege montage gonna be litty babyyy😎😎 https://t.co/qq15ibnupg\"\n",
    "tweet_SemLink = re.sub(r\"http\\S+\", \"\", tweet_raw)\n",
    "tweet = cleanup(tweet_SemLink.lower())\n",
    "\n",
    "tweet1 = tweet.split()\n",
    "print(tweet1)\n",
    "#Calculo da probabilidade de pertencer a cada grupo\n",
    "\n",
    "prob_gosta = tabela_like_relativa[tweet1].sum()*P_gosta\n",
    "P_gosta\n",
    "prob_ngosta = tabela_dislike_relativa[tweet1].sum()*P_nao_gosta\n",
    "P_nao_gosta\n",
    "\n",
    "if prob_gosta > prob_ngosta:\n",
    "    print(\"Esse tweet é a favor\")\n",
    "else:\n",
    "    print(\"Esse tweet é contra\")\n"
   ]
  },
  {
   "cell_type": "markdown",
   "metadata": {},
   "source": [
    "___\n",
    "### Verificando a performance\n",
    "\n",
    "Agora você deve testar o seu classificador com a base de Testes."
   ]
  },
  {
   "cell_type": "code",
   "execution_count": 89,
   "metadata": {},
   "outputs": [],
   "source": [
    "def laplace_smoothing(tweet_raw):\n",
    "    \n",
    "    tweet_semlink = re.sub(r\"http\\S+\", \"\", tweet_raw)\n",
    "    tweet = cleanup(tweet_semlink.lower())\n",
    "    \n",
    "    tweet_lista = pd.Series(tweet.split())\n",
    "#    tweet_relat = tweet_lista.value_counts(True)\n",
    "    if set(tweet_lista) - set(texto_total.split()) != {}:\n",
    "        palavras_novas = set(tweet_lista) - set(texto_total.split())\n",
    "        palavras = list(palavras_novas)\n",
    "        Palavras = pd.Series(palavras)\n",
    "        return Palavras.value_counts(True)\n",
    "    else:\n",
    "        if tabela_like_relativa[tweet_lista] > tabela_dislike_relativa[tweet_lista]:\n",
    "            return \"Tweet favorável\"\n",
    "        else:\n",
    "            return \"Tweet contrário\""
   ]
  },
  {
   "cell_type": "code",
   "execution_count": 92,
   "metadata": {},
   "outputs": [
    {
     "data": {
      "text/plain": [
       "Series([], dtype: float64)"
      ]
     },
     "execution_count": 92,
     "metadata": {},
     "output_type": "execute_result"
    }
   ],
   "source": [
    "tweet = \"my next rainbow six siege montage gonna be litty babyyy😎😎\"\n",
    "laplace_smoothing(tweet)"
   ]
  },
  {
   "cell_type": "code",
   "execution_count": 93,
   "metadata": {},
   "outputs": [
    {
     "name": "stdout",
     "output_type": "stream",
     "text": [
      "{'oi', 'alo'}\n",
      "['oi', 'alo']\n",
      "oi\n",
      "0     oi\n",
      "1    alo\n",
      "dtype: object\n"
     ]
    },
    {
     "data": {
      "text/plain": [
       "my          0.020000\n",
       "next        0.000662\n",
       "rainbow     0.058499\n",
       "six         0.043929\n",
       "siege       0.058499\n",
       "montage     0.003311\n",
       "gonna       0.000662\n",
       "be          0.002649\n",
       "oi               NaN\n",
       "alo              NaN\n",
       "litty       0.000221\n",
       "babyyy😎😎    0.000221\n",
       "dtype: float64"
      ]
     },
     "execution_count": 93,
     "metadata": {},
     "output_type": "execute_result"
    }
   ],
   "source": [
    "tweet = \"my next rainbow six siege montage gonna be oi alo litty babyyy😎😎\"\n",
    "tweet_lista = pd.Series(tweet.split())\n",
    "tweet_relat = tweet_lista.value_counts(True)\n",
    "\n",
    "prob = 1\n",
    "#for palavra in tweet_relat:\n",
    "#    prob = prob*tweet_relat[palavra]\n",
    "#para palvras que não existem   \n",
    "print(set(tweet_lista) - set(texto_total.split()))\n",
    "palavras = set(tweet_lista) - set(texto_total.split())\n",
    "print(list(palavras))\n",
    "palavra = list(palavras)\n",
    "Palavra = pd.Series(palavra)\n",
    "print(palavra[0])\n",
    "print(Palavra)\n",
    "prob_palavra = tabela_like_relativa[tweet_lista]\n",
    "tabela_like_relativa[\"my\"] = 0.02\n",
    "tabela_like_relativa[tweet_lista]"
   ]
  },
  {
   "cell_type": "code",
   "execution_count": 100,
   "metadata": {},
   "outputs": [],
   "source": [
    "a = [\"banana\", \"cebola\", \"laranja\"]\n",
    "b = [\"banana\",\"alho\",\"cebola\",\"laranja\",\"alface\"]"
   ]
  },
  {
   "cell_type": "code",
   "execution_count": 102,
   "metadata": {},
   "outputs": [
    {
     "name": "stdout",
     "output_type": "stream",
     "text": [
      "7\n"
     ]
    }
   ],
   "source": [
    "if a in b:\n",
    "    print(0)\n",
    "else:\n",
    "    print(7)"
   ]
  },
  {
   "cell_type": "code",
   "execution_count": 69,
   "metadata": {},
   "outputs": [
    {
     "data": {
      "text/plain": [
       "0.25"
      ]
     },
     "execution_count": 69,
     "metadata": {},
     "output_type": "execute_result"
    }
   ],
   "source": [
    "a = \"fui ontem ao mercado\"\n",
    "#t = \"fui ontem mercado\"\n",
    "\n",
    "a1 = pd.Series(a.split())\n",
    "(a1.value_counts(True)[0] + 1)/5"
   ]
  },
  {
   "cell_type": "markdown",
   "metadata": {},
   "source": [
    "___\n",
    "### Concluindo"
   ]
  },
  {
   "cell_type": "code",
   "execution_count": null,
   "metadata": {},
   "outputs": [],
   "source": [
    "concluimos que de acordo com os dados coletados do twitter, a probabilidade de gostar e nao gostar do jogo Rainbow Six Siege tem uma diferenca enorme, onde ha muitas pessoas que gostam e pouquissimas que desgostam do jogo de acordo com a quantidade de twitts analisados"
   ]
  },
  {
   "cell_type": "code",
   "execution_count": null,
   "metadata": {},
   "outputs": [],
   "source": []
  },
  {
   "cell_type": "markdown",
   "metadata": {},
   "source": [
    "## Aperfeiçoamento:\n",
    "\n",
    "Os trabalhos vão evoluir em conceito dependendo da quantidade de itens avançados:\n",
    "\n",
    "* Limpar: \\n, :, \", ', (, ), etc SEM remover emojis\n",
    "* Corrigir separação de espaços entre palavras e emojis ou emojis e emojis\n",
    "* Propor outras limpezas e transformações que não afetem a qualidade da informação ou classificação\n",
    "* Criar categorias intermediárias de relevância baseadas na probabilidade: ex.: muito relevante, relevante, neutro, irrelevante, muito irrelevante (3 categorias: C, mais categorias conta para B)\n",
    "* Explicar por que não posso usar o próprio classificador para gerar mais amostras de treinamento\n",
    "* Propor diferentes cenários para Naïve Bayes fora do contexto do projeto\n",
    "* Sugerir e explicar melhorias reais com indicações concretas de como implementar (indicar como fazer e indicar material de pesquisa)\n",
    "* Montar um dashboard que periodicamente realiza análise de sentimento e visualiza estes dados"
   ]
  },
  {
   "cell_type": "markdown",
   "metadata": {},
   "source": [
    "# Referências"
   ]
  },
  {
   "cell_type": "markdown",
   "metadata": {},
   "source": [
    "[Naive Bayes and Text Classification](https://arxiv.org/pdf/1410.5329.pdf)  **Mais completo**\n",
    "\n",
    "[A practical explanation of a Naive Bayes Classifier](https://monkeylearn.com/blog/practical-explanation-naive-bayes-classifier/) **Mais simples**"
   ]
  },
  {
   "cell_type": "markdown",
   "metadata": {},
   "source": [
    "Código do professor dado em aula para classificar uma frase, caso pertencesse à Camôes ou à Lusíadas."
   ]
  },
  {
   "cell_type": "code",
   "execution_count": null,
   "metadata": {},
   "outputs": [],
   "source": []
  }
 ],
 "metadata": {
  "kernelspec": {
   "display_name": "Python 3",
   "language": "python",
   "name": "python3"
  },
  "language_info": {
   "codemirror_mode": {
    "name": "ipython",
    "version": 3
   },
   "file_extension": ".py",
   "mimetype": "text/x-python",
   "name": "python",
   "nbconvert_exporter": "python",
   "pygments_lexer": "ipython3",
   "version": "3.7.3"
  }
 },
 "nbformat": 4,
 "nbformat_minor": 4
}
